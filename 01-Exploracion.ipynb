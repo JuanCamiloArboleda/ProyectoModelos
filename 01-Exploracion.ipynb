{
  "nbformat": 4,
  "nbformat_minor": 0,
  "metadata": {
    "colab": {
      "provenance": []
    },
    "kernelspec": {
      "name": "python3",
      "display_name": "Python 3"
    },
    "language_info": {
      "name": "python"
    }
  },
  "cells": [
    {
      "cell_type": "code",
      "execution_count": null,
      "metadata": {
        "id": "po_5XV4BLYr8"
      },
      "outputs": [],
      "source": [
        "import pandas as pd\n",
        "import seaborn as sns\n",
        "import numpy as np\n",
        "import matplotlib.pyplot as plt\n",
        "import os"
      ]
    },
    {
      "cell_type": "markdown",
      "source": [
        "#**Descargar archivos CSV**\n",
        "\n",
        "Con este código se descargan los archivos directamente desde la plataforma Kaggle mediante la API"
      ],
      "metadata": {
        "id": "IK7n6_1YL-nw"
      }
    },
    {
      "cell_type": "code",
      "source": [
        "os.environ['KAGGLE_CONFIG_DIR'] = '.'\n",
        "!chmod 600 ./kaggle.json\n",
        "!kaggle competitions download -c udea-ai-4-eng-20251-pruebas-saber-pro-colombia"
      ],
      "metadata": {
        "id": "hkH3V3L2L_wo"
      },
      "execution_count": null,
      "outputs": []
    },
    {
      "cell_type": "markdown",
      "source": [
        "#**Descomprimir los archivos**"
      ],
      "metadata": {
        "id": "unntytFcMBBw"
      }
    },
    {
      "cell_type": "code",
      "source": [
        "!unzip udea*.zip > /dev/null"
      ],
      "metadata": {
        "id": "Mdr6i7WzMDB4"
      },
      "execution_count": null,
      "outputs": []
    },
    {
      "cell_type": "code",
      "source": [
        "!wc *.csv"
      ],
      "metadata": {
        "id": "jNkjlwQVMFBg"
      },
      "execution_count": null,
      "outputs": []
    },
    {
      "cell_type": "markdown",
      "source": [
        "#**Cargar archivos como Dataframes**"
      ],
      "metadata": {
        "id": "iReIn8kTMGso"
      }
    },
    {
      "cell_type": "code",
      "source": [
        "train_df = pd.read_csv('train.csv')\n",
        "test_df = pd.read_csv('test.csv')"
      ],
      "metadata": {
        "id": "-YlrWtyJMI6A"
      },
      "execution_count": null,
      "outputs": []
    },
    {
      "cell_type": "markdown",
      "source": [
        "#**Mostrar los primeros datos del Dataframe**"
      ],
      "metadata": {
        "id": "zsVxKKmiMOKZ"
      }
    },
    {
      "cell_type": "code",
      "source": [
        "train_df.head()"
      ],
      "metadata": {
        "id": "5bD27EEgMO1Q"
      },
      "execution_count": null,
      "outputs": []
    },
    {
      "cell_type": "markdown",
      "source": [
        "#**Mostrar número de registros vacios por columna**"
      ],
      "metadata": {
        "id": "pv5Dn6_yMSUI"
      }
    },
    {
      "cell_type": "code",
      "source": [
        "k = train_df.isna().sum()\n",
        "k"
      ],
      "metadata": {
        "id": "hwCvJevpMTUQ"
      },
      "execution_count": null,
      "outputs": []
    },
    {
      "cell_type": "markdown",
      "source": [
        "#**Gráfica del número de estudiantes por rendimiento global**\n",
        "\n",
        "Se ajustó la gráfica para visualizar de una mejor forma las diferencias entre cada rendimiento"
      ],
      "metadata": {
        "id": "6R8wdrejMV8g"
      }
    },
    {
      "cell_type": "code",
      "source": [
        "plt.figure(figsize=(10, 6))\n",
        "rendimiento = train_df['RENDIMIENTO_GLOBAL'].value_counts().sort_index()\n",
        "sns.barplot(x=rendimiento.index, y=rendimiento.values, width=0.6)\n",
        "plt.ylim(170000, 180000)"
      ],
      "metadata": {
        "id": "OVtshO0WMWeA"
      },
      "execution_count": null,
      "outputs": []
    },
    {
      "cell_type": "markdown",
      "source": [
        "#**Mostrar el tipo de dato de cada columna**"
      ],
      "metadata": {
        "id": "Tdgnuz01MbZQ"
      }
    },
    {
      "cell_type": "code",
      "source": [
        "train_df.info()"
      ],
      "metadata": {
        "id": "7aUN3PhgMdGA"
      },
      "execution_count": null,
      "outputs": []
    },
    {
      "cell_type": "markdown",
      "source": [
        "#**Mostrar las estadísticas globales de las columnas de tipo númerico**\n",
        "\n",
        "De los no númericos muestra la moda, su frecuencia y el número de respuestas únicas"
      ],
      "metadata": {
        "id": "J895Z4WuMfF4"
      }
    },
    {
      "cell_type": "code",
      "source": [
        "print(train_df.describe(include='all'))"
      ],
      "metadata": {
        "id": "kTSQjO4AMypp"
      },
      "execution_count": null,
      "outputs": []
    },
    {
      "cell_type": "markdown",
      "source": [
        "#**Imprimir por cada columna sus nombres y sus variables únicas**"
      ],
      "metadata": {
        "id": "wbHb-XNgM0tI"
      }
    },
    {
      "cell_type": "code",
      "source": [
        "for col in train_df.columns:\n",
        "    print(\"\\n\")\n",
        "    print(f\"{col}: {train_df[col].unique()}\")"
      ],
      "metadata": {
        "id": "qcjSYqVKM1lI"
      },
      "execution_count": null,
      "outputs": []
    },
    {
      "cell_type": "markdown",
      "source": [
        "#**Generar gráfica de barras de un conjunto de columnas para ver las frecuencias de sus variables únicas**"
      ],
      "metadata": {
        "id": "3WJzjsvUM4F4"
      }
    },
    {
      "cell_type": "code",
      "source": [
        "columnas = ['ESTU_PRGM_DEPARTAMENTO',\n",
        "       'ESTU_VALORMATRICULAUNIVERSIDAD', 'ESTU_HORASSEMANATRABAJA',\n",
        "       'FAMI_ESTRATOVIVIENDA', 'FAMI_TIENEINTERNET', 'FAMI_EDUCACIONPADRE',\n",
        "       'FAMI_EDUCACIONMADRE', 'ESTU_PAGOMATRICULAPROPIO']\n",
        "\n",
        "for column in columnas:\n",
        "    plt.figure(figsize=(10, 6))\n",
        "    print(\"\\n\")\n",
        "    train_df[column].value_counts().plot(kind='bar')\n",
        "    plt.title(f'Conteo de valores para {column}')\n",
        "    plt.ylabel('Frecuencia')\n",
        "    plt.xlabel(column)\n",
        "    plt.show()\n"
      ],
      "metadata": {
        "id": "TmmmKh8mM40A"
      },
      "execution_count": null,
      "outputs": []
    },
    {
      "cell_type": "markdown",
      "source": [
        "# **Mostrar gráficas que relacionan dos columnas**"
      ],
      "metadata": {
        "id": "GUiFLerhM56o"
      }
    },
    {
      "cell_type": "markdown",
      "source": [
        "## **Estrato vs Rendimiento Global**"
      ],
      "metadata": {
        "id": "IA39dvnDM9TA"
      }
    },
    {
      "cell_type": "code",
      "source": [
        "c = sorted(train_df.FAMI_ESTRATOVIVIENDA.value_counts().index)\n",
        "n_cols = 4\n",
        "n_rows = (len(c) + n_cols - 1) // n_cols\n",
        "fig, axes = plt.subplots(n_rows, n_cols, figsize=(n_cols * 4, n_rows * 4))\n",
        "axes = axes.flatten()\n",
        "# Iterar sobre las categorías y sus respectivos ejes\n",
        "for i, ci in enumerate(c):\n",
        "    ax = axes[i]\n",
        "    zc = train_df[train_df.FAMI_ESTRATOVIVIENDA == ci]\n",
        "    counts = zc.RENDIMIENTO_GLOBAL.value_counts()\n",
        "    counts = counts.reindex(['bajo', 'medio-bajo', 'medio-alto', 'alto'], fill_value=0)\n",
        "    counts.plot(kind='bar', ax=ax)\n",
        "    ax.set_title(f'{ci}')\n",
        "    ax.set_ylabel('Conteo')\n",
        "\n",
        "plt.tight_layout()\n",
        "plt.show()\n"
      ],
      "metadata": {
        "id": "R6FzLiLjM81g"
      },
      "execution_count": null,
      "outputs": []
    },
    {
      "cell_type": "markdown",
      "source": [
        "## **Horas que Trabaja por Semana vs Rendimiento Global**"
      ],
      "metadata": {
        "id": "B6S36chbNBsw"
      }
    },
    {
      "cell_type": "code",
      "source": [
        "c = sorted(train_df.ESTU_HORASSEMANATRABAJA.value_counts().index)\n",
        "n_cols = 3\n",
        "n_rows = (len(c) + n_cols - 1) // n_cols\n",
        "fig, axes = plt.subplots(n_rows, n_cols, figsize=(n_cols * 4, n_rows * 4))\n",
        "axes = axes.flatten()\n",
        "# Iterar sobre las categorías y sus respectivos ejes\n",
        "for i, ci in enumerate(c):\n",
        "    ax = axes[i]\n",
        "    zc = train_df[train_df.ESTU_HORASSEMANATRABAJA == ci]\n",
        "    counts = zc.RENDIMIENTO_GLOBAL.value_counts()\n",
        "    counts = counts.reindex(['bajo', 'medio-bajo', 'medio-alto', 'alto'], fill_value=0)\n",
        "    counts.plot(kind='bar', ax=ax)\n",
        "    ax.set_title(f'{ci}')\n",
        "    ax.set_ylabel('Conteo')\n",
        "\n",
        "plt.tight_layout()\n",
        "plt.show()\n"
      ],
      "metadata": {
        "id": "NqT2fzjdNBJ4"
      },
      "execution_count": null,
      "outputs": []
    },
    {
      "cell_type": "markdown",
      "source": [
        "## **Paga su Propia Matricula vs Rendimiento Global**"
      ],
      "metadata": {
        "id": "liP5-s9uNGkI"
      }
    },
    {
      "cell_type": "code",
      "source": [
        "c = sorted(train_df.ESTU_PAGOMATRICULAPROPIO.value_counts().index)\n",
        "n_cols = 2\n",
        "n_rows = (len(c) + n_cols - 1) // n_cols\n",
        "fig, axes = plt.subplots(n_rows, n_cols, figsize=(n_cols * 4, n_rows * 4))\n",
        "axes = axes.flatten()\n",
        "# Iterar sobre las categorías y sus respectivos ejes\n",
        "for i, ci in enumerate(c):\n",
        "    ax = axes[i]\n",
        "    zc = train_df[train_df.ESTU_PAGOMATRICULAPROPIO == ci]\n",
        "    counts = zc.RENDIMIENTO_GLOBAL.value_counts()\n",
        "    counts = counts.reindex(['bajo', 'medio-bajo', 'medio-alto', 'alto'], fill_value=0)\n",
        "    counts.plot(kind='bar', ax=ax)\n",
        "    ax.set_title(f'{ci}')\n",
        "    ax.set_ylabel('Conteo')\n",
        "\n",
        "plt.tight_layout()\n",
        "plt.show()\n"
      ],
      "metadata": {
        "id": "AYy5rSU5NGAY"
      },
      "execution_count": null,
      "outputs": []
    },
    {
      "cell_type": "markdown",
      "source": [
        "## **Educación del Padre vs Rendimiento Global**"
      ],
      "metadata": {
        "id": "_OnDZg3xNJ7g"
      }
    },
    {
      "cell_type": "code",
      "source": [
        "c = sorted(train_df.FAMI_EDUCACIONPADRE.value_counts().index)\n",
        "n_cols = 4\n",
        "n_rows = (len(c) + n_cols - 1) // n_cols\n",
        "fig, axes = plt.subplots(n_rows, n_cols, figsize=(n_cols * 4, n_rows * 4))\n",
        "axes = axes.flatten()\n",
        "# Iterar sobre las categorías y sus respectivos ejes\n",
        "for i, ci in enumerate(c):\n",
        "    ax = axes[i]\n",
        "    zc = train_df[train_df.FAMI_EDUCACIONPADRE == ci]\n",
        "    counts = zc.RENDIMIENTO_GLOBAL.value_counts()\n",
        "    counts = counts.reindex(['bajo', 'medio-bajo', 'medio-alto', 'alto'], fill_value=0)\n",
        "    counts.plot(kind='bar', ax=ax)\n",
        "    ax.set_title(f'{ci}')\n",
        "    ax.set_ylabel('Conteo')\n",
        "\n",
        "plt.tight_layout()\n",
        "plt.show()\n"
      ],
      "metadata": {
        "id": "NG40LKQTNKS4"
      },
      "execution_count": null,
      "outputs": []
    },
    {
      "cell_type": "markdown",
      "source": [
        "## **Tiene Intenet en su Hogar vs Rendimiento Global**"
      ],
      "metadata": {
        "id": "1aNUV_9lNMjw"
      }
    },
    {
      "cell_type": "code",
      "source": [
        "c = sorted(train_df.FAMI_TIENEINTERNET.value_counts().index)\n",
        "n_cols = 2\n",
        "n_rows = (len(c) + n_cols - 1) // n_cols\n",
        "fig, axes = plt.subplots(n_rows, n_cols, figsize=(n_cols * 4, n_rows * 4))\n",
        "axes = axes.flatten()\n",
        "# Iterar sobre las categorías y sus respectivos ejes\n",
        "for i, ci in enumerate(c):\n",
        "    ax = axes[i]\n",
        "    zc = train_df[train_df.FAMI_TIENEINTERNET == ci]\n",
        "    counts = zc.RENDIMIENTO_GLOBAL.value_counts()\n",
        "    counts = counts.reindex(['bajo', 'medio-bajo', 'medio-alto', 'alto'], fill_value=0)\n",
        "    counts.plot(kind='bar', ax=ax)\n",
        "    ax.set_title(f'{ci}')\n",
        "    ax.set_ylabel('Conteo')\n",
        "\n",
        "plt.tight_layout()\n",
        "plt.show()"
      ],
      "metadata": {
        "id": "YYAynqNgNNI4"
      },
      "execution_count": null,
      "outputs": []
    }
  ]
}