{
  "nbformat": 4,
  "nbformat_minor": 0,
  "metadata": {
    "colab": {
      "provenance": []
    },
    "kernelspec": {
      "name": "python3",
      "display_name": "Python 3"
    },
    "language_info": {
      "name": "python"
    }
  },
  "cells": [
    {
      "cell_type": "code",
      "execution_count": null,
      "metadata": {
        "id": "rUsynZt1wQQn"
      },
      "outputs": [],
      "source": [
        "import pandas as pd\n",
        "import seaborn as sns\n",
        "import numpy as np\n",
        "import matplotlib.pyplot as plt\n",
        "import os\n",
        "\n",
        "\n",
        "!unzip udea*.zip > /dev/null\n"
      ]
    },
    {
      "cell_type": "markdown",
      "source": [
        "# **Interacción con los Archivos**"
      ],
      "metadata": {
        "id": "W_8R2v1dwvC3"
      }
    },
    {
      "cell_type": "markdown",
      "source": [
        "## **Descargar archivos CSV**\n",
        "\n",
        "Con este código se descargan los archivos directamente desde la plataforma Kaggle mediante la API"
      ],
      "metadata": {
        "id": "8MXugddxwxnf"
      }
    },
    {
      "cell_type": "code",
      "source": [
        "\n",
        "os.environ['KAGGLE_CONFIG_DIR'] = '.'\n",
        "!chmod 600 ./kaggle.json\n",
        "!kaggle competitions download -c udea-ai-4-eng-20251-pruebas-saber-pro-colombia"
      ],
      "metadata": {
        "id": "4VSe-wq2wzgn"
      },
      "execution_count": null,
      "outputs": []
    },
    {
      "cell_type": "markdown",
      "source": [
        "## **Descomprimir los archivos**"
      ],
      "metadata": {
        "id": "yPLxC8ELw1M3"
      }
    },
    {
      "cell_type": "code",
      "source": [
        "!unzip udea*.zip > /dev/null"
      ],
      "metadata": {
        "id": "GXK7sGeJw2F_"
      },
      "execution_count": null,
      "outputs": []
    },
    {
      "cell_type": "code",
      "source": [
        "!wc *.csv"
      ],
      "metadata": {
        "id": "6lBJCFbCw4M_"
      },
      "execution_count": null,
      "outputs": []
    },
    {
      "cell_type": "markdown",
      "source": [
        "#**Cargar archivos como Dataframes**"
      ],
      "metadata": {
        "id": "nZ-extcIw5pn"
      }
    },
    {
      "cell_type": "code",
      "source": [
        "train_df = pd.read_csv('train.csv')\n",
        "test_df = pd.read_csv('test.csv')\n",
        "auxiliar_df = train_df.copy()"
      ],
      "metadata": {
        "id": "OSmL2uy8w6jv"
      },
      "execution_count": null,
      "outputs": []
    },
    {
      "cell_type": "markdown",
      "source": [
        "\n",
        "\n",
        "# **Limpieza de Datos**\n"
      ],
      "metadata": {
        "id": "dL0xm5jrw7un"
      }
    },
    {
      "cell_type": "markdown",
      "source": [
        "## **Funciones de Limpieza**"
      ],
      "metadata": {
        "id": "IQmm3MU4w9CH"
      }
    },
    {
      "cell_type": "markdown",
      "source": [
        "### **Rendimiento Global**"
      ],
      "metadata": {
        "id": "UOpngv2ow_j3"
      }
    },
    {
      "cell_type": "code",
      "source": [
        "def rendimientoglobal(df):\n",
        "  map_dict = {\n",
        "    \"alto\":3,\n",
        "    \"medio-alto\":2,\n",
        "    \"medio-bajo\":1,\n",
        "    \"bajo\": 0\n",
        "  }\n",
        "  df['RENDIMIENTO_GLOBAL'] = df['RENDIMIENTO_GLOBAL'].map(map_dict)"
      ],
      "metadata": {
        "id": "a4ofl30ew-jH"
      },
      "execution_count": null,
      "outputs": []
    },
    {
      "cell_type": "code",
      "source": [
        "print(train_df[\"RENDIMIENTO_GLOBAL\"].head(10))"
      ],
      "metadata": {
        "id": "1HIVH5o2xBiv"
      },
      "execution_count": null,
      "outputs": []
    },
    {
      "cell_type": "markdown",
      "source": [
        "### **Rendimiento Global Reverso**"
      ],
      "metadata": {
        "id": "jJnhxsSyxDv_"
      }
    },
    {
      "cell_type": "code",
      "source": [
        "def rendimientoglobalreverse(df):\n",
        "  df['RENDIMIENTO_GLOBAL'] = df['RENDIMIENTO_GLOBAL'].round().astype(int)\n",
        "  map_dict = {\n",
        "    3:\"alto\",\n",
        "    2:\"medio-alto\",\n",
        "    1:\"medio-bajo\",\n",
        "    0:\"bajo\"\n",
        "  }\n",
        "  df['RENDIMIENTO_GLOBAL'] = df['RENDIMIENTO_GLOBAL'].map(map_dict)"
      ],
      "metadata": {
        "id": "h5vS6O4QxEdn"
      },
      "execution_count": null,
      "outputs": []
    },
    {
      "cell_type": "markdown",
      "source": [
        "### **Estrato**"
      ],
      "metadata": {
        "id": "2mzW1i4exF82"
      }
    },
    {
      "cell_type": "code",
      "source": [
        "def estrato(df):\n",
        "\n",
        "  moda = df['FAMI_ESTRATOVIVIENDA'].mode()[0]\n",
        "  # Función para generar valores aleatorios con la misma media y desviación estándar\n",
        "  def generar_valores(row):\n",
        "      if pd.isna(row):  # Si el valor es nulo\n",
        "          return moda\n",
        "      return row\n",
        "\n",
        "    # Aplicar la función para sustituir los valores nulos con una distribución normal equivalente\n",
        "  df['FAMI_ESTRATOVIVIENDA'] = df['FAMI_ESTRATOVIVIENDA'].apply(generar_valores)\n"
      ],
      "metadata": {
        "id": "rAn51S5TxGsn"
      },
      "execution_count": null,
      "outputs": []
    },
    {
      "cell_type": "markdown",
      "source": [
        "### **Internet**"
      ],
      "metadata": {
        "id": "-ds32A6OxH3I"
      }
    },
    {
      "cell_type": "code",
      "source": [
        "#NUEVO - la probabilidad no es una constante, es el promedio de personas que dijieron que si\n",
        "import random\n",
        "def internet(df):\n",
        "\n",
        "  percent = np.round(df['FAMI_TIENEINTERNET'].value_counts(normalize=True).get('Si', 0), 4)\n",
        "\n",
        "  def assign_value(row):\n",
        "    est_value=row['FAMI_ESTRATOVIVIENDA']\n",
        "    if pd.isnull(row['FAMI_TIENEINTERNET']):\n",
        "        if ((est_value != 'Sin Estrato') or (est_value != 'Estrato 1') or (est_value != 'Estrato 2')) :\n",
        "            return 'Si'\n",
        "        elif np.round(random.random(),4) <= percent:\n",
        "            return 'Si'\n",
        "        else:\n",
        "            return 'No'\n",
        "    else:\n",
        "        return row['FAMI_TIENEINTERNET']\n",
        "\n",
        "  df['FAMI_TIENEINTERNET'] = df.apply(assign_value, axis=1)"
      ],
      "metadata": {
        "id": "CTfhOQLzxIi3"
      },
      "execution_count": null,
      "outputs": []
    },
    {
      "cell_type": "markdown",
      "source": [
        "### **Matricula Propia**"
      ],
      "metadata": {
        "id": "LL6b0gNZxJ2_"
      }
    },
    {
      "cell_type": "code",
      "source": [
        "def matriculapropia(df):\n",
        "\n",
        "    # Agrupar por departamento y calcular la media y desviación estándar del rendimiento global\n",
        "    moda = df['ESTU_PAGOMATRICULAPROPIO'].mode()[0]\n",
        "\n",
        "    # Función para generar valores aleatorios con la misma media y desviación estándar\n",
        "    def generar_valores_normales(row):\n",
        "        if pd.isna(row):  # Si el valor es nulo\n",
        "            return moda\n",
        "        return row\n",
        "\n",
        "    # Aplicar la función para sustituir los valores nulos con una distribución normal equivalente\n",
        "    df['ESTU_PAGOMATRICULAPROPIO'] = df['ESTU_PAGOMATRICULAPROPIO'].apply(generar_valores_normales)\n"
      ],
      "metadata": {
        "id": "M83pL081xLAX"
      },
      "execution_count": null,
      "outputs": []
    },
    {
      "cell_type": "markdown",
      "source": [
        "### **Horas que Trabaja**"
      ],
      "metadata": {
        "id": "K-gQQlMoxMLu"
      }
    },
    {
      "cell_type": "code",
      "source": [
        "def horassemanatrabaja(df):\n",
        "\n",
        "  moda = df['ESTU_HORASSEMANATRABAJA'].mode()[0]\n",
        "\n",
        "  # Función para generar valores aleatorios con la misma media y desviación estándar\n",
        "  def generar_valores(row):\n",
        "      if pd.isna(row):  # Si el valor es nulo\n",
        "          return moda\n",
        "      return row\n",
        "\n",
        "    # Aplicar la función para sustituir los valores nulos con una distribución normal equivalente\n",
        "  df['ESTU_HORASSEMANATRABAJA'] = df['ESTU_HORASSEMANATRABAJA'].apply(generar_valores)"
      ],
      "metadata": {
        "id": "PPVwMky4xM4v"
      },
      "execution_count": null,
      "outputs": []
    },
    {
      "cell_type": "markdown",
      "source": [
        "### **Valor de la Matricula**"
      ],
      "metadata": {
        "id": "w7QURT9IxOCn"
      }
    },
    {
      "cell_type": "code",
      "source": [
        "def valormatriculauniversidad(df):\n",
        "\n",
        "  moda = df['ESTU_VALORMATRICULAUNIVERSIDAD'].mode()[0]\n",
        "  # Función para generar valores aleatorios con la misma media y desviación estándar\n",
        "  def generar_valores(row):\n",
        "      if pd.isna(row):  # Si el valor es nulo\n",
        "          return moda\n",
        "      return row\n",
        "\n",
        "    # Aplicar la función para sustituir los valores nulos con una distribución normal equivalente\n",
        "  df['ESTU_VALORMATRICULAUNIVERSIDAD'] = df['ESTU_VALORMATRICULAUNIVERSIDAD'].apply(generar_valores)"
      ],
      "metadata": {
        "id": "k_dOrIqTxOqX"
      },
      "execution_count": null,
      "outputs": []
    },
    {
      "cell_type": "markdown",
      "source": [
        "### **Educación de Padre**"
      ],
      "metadata": {
        "id": "co5eWr4qxPdf"
      }
    },
    {
      "cell_type": "code",
      "source": [
        "def educacionpadre(df):\n",
        "\n",
        "  moda = df['FAMI_EDUCACIONPADRE'].mode()[0]\n",
        "\n",
        "  # Función para generar valores aleatorios con la misma media y desviación estándar\n",
        "  def generar_valores(row):\n",
        "      if pd.isna(row):  # Si el valor es nulo\n",
        "          return moda\n",
        "      return row\n",
        "\n",
        "    # Aplicar la función para sustituir los valores nulos con una distribución normal equivalente\n",
        "  df['FAMI_EDUCACIONPADRE'] = df['FAMI_EDUCACIONPADRE'].apply(generar_valores)\n"
      ],
      "metadata": {
        "id": "OdHc2ESUxQOf"
      },
      "execution_count": null,
      "outputs": []
    },
    {
      "cell_type": "markdown",
      "source": [
        "### **Educación de Madre**"
      ],
      "metadata": {
        "id": "r88ccrtSxRcv"
      }
    },
    {
      "cell_type": "code",
      "source": [
        "def educacionmadre(df):\n",
        "\n",
        "  moda = df['FAMI_EDUCACIONMADRE'].mode()[0]\n",
        "  # Función para generar valores aleatorios con la misma media y desviación estándar\n",
        "  def generar_valores(row):\n",
        "      if pd.isna(row):  # Si el valor es nulo\n",
        "          return moda\n",
        "      return row\n",
        "\n",
        "    # Aplicar la función para sustituir los valores nulos con una distribución normal equivalente\n",
        "  df['FAMI_EDUCACIONMADRE'] = df['FAMI_EDUCACIONMADRE'].apply(generar_valores)"
      ],
      "metadata": {
        "id": "CICcC9DwxSN_"
      },
      "execution_count": null,
      "outputs": []
    },
    {
      "cell_type": "markdown",
      "source": [
        "### **Periodo**"
      ],
      "metadata": {
        "id": "7GTef8lcxTb-"
      }
    },
    {
      "cell_type": "code",
      "source": [
        "def periodo(df):\n",
        "\n",
        "  moda = df['PERIODO'].mode()[0]\n",
        "  # Función para generar valores aleatorios con la misma media y desviación estándar\n",
        "  def generar_valores(row):\n",
        "      if pd.isna(row):  # Si el valor es nulo\n",
        "          return moda\n",
        "      return row\n",
        "\n",
        "    # Aplicar la función para sustituir los valores nulos con una distribución normal equivalente\n",
        "  df['PERIODO'] = df['PERIODO'].apply(generar_valores)"
      ],
      "metadata": {
        "id": "qBJSmSpxxUb_"
      },
      "execution_count": null,
      "outputs": []
    },
    {
      "cell_type": "markdown",
      "source": [
        "### **Departamento**"
      ],
      "metadata": {
        "id": "50c2aYsuxVxX"
      }
    },
    {
      "cell_type": "code",
      "source": [
        "def departamento(df):\n",
        "\n",
        "    # Agrupar por departamento y calcular la media y desviación estándar del rendimiento global\n",
        "    moda = df['ESTU_PRGM_DEPARTAMENTO'].mode()[0]\n",
        "\n",
        "    # Función para generar valores aleatorios con la misma media y desviación estándar\n",
        "    def generar_valores(row):\n",
        "        if pd.isna(row):  # Si el valor es nulo\n",
        "            return moda\n",
        "        return row\n",
        "\n",
        "    # Aplicar la función para sustituir los valores nulos con una distribución normal equivalente\n",
        "    df['ESTU_PRGM_DEPARTAMENTO'] = df['ESTU_PRGM_DEPARTAMENTO'].apply(generar_valores)\n"
      ],
      "metadata": {
        "id": "JAAx3_8HxWav"
      },
      "execution_count": null,
      "outputs": []
    },
    {
      "cell_type": "markdown",
      "source": [
        "### **Añadir Nuevas Columnas de Relación**"
      ],
      "metadata": {
        "id": "SY1z100WxXwP"
      }
    },
    {
      "cell_type": "code",
      "source": [
        "def nuevascolumnas(df):\n",
        "    df['RELACION_PROGRAMA_VALOR_MATRICULA'] = df.apply(lambda x: f\"{x['ESTU_PRGM_ACADEMICO']}_{x['ESTU_VALORMATRICULAUNIVERSIDAD']}\", axis=1)\n",
        "\n",
        "    df['RELACION_PROGRAMA_VALOR_MATRICULA_DEPARTAMENTO'] = df.apply(lambda x: f\"{x['ESTU_PRGM_ACADEMICO']}_{x['ESTU_VALORMATRICULAUNIVERSIDAD']}_{x['ESTU_PRGM_DEPARTAMENTO']}\", axis=1)\n",
        "\n",
        "    df['RELACION_PROGRAMA_DEPARTAMENTO'] = df.apply(lambda x: f\"{x['ESTU_PRGM_ACADEMICO']}_{x['ESTU_PRGM_DEPARTAMENTO']}\", axis=1)\n",
        "\n",
        "    df.drop(columns=['ESTU_PRGM_ACADEMICO'], inplace=True)"
      ],
      "metadata": {
        "id": "V_B76ho3xYfn"
      },
      "execution_count": null,
      "outputs": []
    },
    {
      "cell_type": "markdown",
      "source": [
        "### **Programa Acádemico**"
      ],
      "metadata": {
        "id": "CcRtXnRXxvef"
      }
    },
    {
      "cell_type": "code",
      "source": [
        "def programaacademico(df):\n",
        "\n",
        "    # Agrupar por departamento y calcular la media y desviación estándar del rendimiento global\n",
        "    moda = df['ESTU_PRGM_ACADEMICO'].mode()[0]\n",
        "\n",
        "    # Función para generar valores aleatorios con la misma media y desviación estándar\n",
        "    def generar_valores(row):\n",
        "        if pd.isna(row):  # Si el valor es nulo\n",
        "            return moda\n",
        "        return row\n",
        "\n",
        "    # Aplicar la función para sustituir los valores nulos con una distribución normal equivalente\n",
        "    df['ESTU_PRGM_ACADEMICO'] = df['ESTU_PRGM_ACADEMICO'].apply(generar_valores)\n"
      ],
      "metadata": {
        "id": "mLYMFHD_xwLX"
      },
      "execution_count": null,
      "outputs": []
    },
    {
      "cell_type": "markdown",
      "source": [
        "## **Limpieza Total**"
      ],
      "metadata": {
        "id": "tOZtpejJxxNX"
      }
    },
    {
      "cell_type": "code",
      "source": [
        "def limpiar_df(df, predict=False, test=False):\n",
        "  if not predict:\n",
        "    if not test:\n",
        "      rendimientoglobal(df)\n",
        "    estrato(df)\n",
        "    internet(df)\n",
        "    matriculapropia(df)\n",
        "    valormatriculauniversidad(df)\n",
        "    educacionpadre(df)\n",
        "    educacionmadre(df)\n",
        "    horassemanatrabaja(df)\n",
        "    departamento(df)\n",
        "    programaacademico(df)\n",
        "    periodo(df)\n",
        "    nuevascolumnas(df)\n",
        "    return df\n",
        "  elif predict:\n",
        "    rendimientoglobal(df)"
      ],
      "metadata": {
        "id": "h7WKnmdtxyPX"
      },
      "execution_count": null,
      "outputs": []
    },
    {
      "cell_type": "code",
      "source": [
        "limpiar_df(auxiliar_df, predict=True)\n",
        "train_df2 = limpiar_df(train_df)\n",
        "test_df2 = limpiar_df(test_df, test=True)"
      ],
      "metadata": {
        "id": "pG-Zze-BxzNH"
      },
      "execution_count": null,
      "outputs": []
    },
    {
      "cell_type": "markdown",
      "source": [
        "# **Catboost Classifier**"
      ],
      "metadata": {
        "id": "--3rIj9Nx0yv"
      }
    },
    {
      "cell_type": "code",
      "source": [
        "!pip install catboost\n",
        "train_df2.to_csv(\"train_limpio.csv\", index=False)"
      ],
      "metadata": {
        "id": "wlJ3gJarx113"
      },
      "execution_count": null,
      "outputs": []
    },
    {
      "cell_type": "code",
      "source": [
        "from catboost import CatBoostClassifier\n",
        "from sklearn.model_selection import train_test_split\n",
        "from sklearn.metrics import accuracy_score\n",
        "\n",
        "# Cargar los datos\n",
        "data = train_df2.copy()  # train_df_clean\n",
        "\n",
        "# Dividir datos en características y variable objetivo\n",
        "X = data.drop(columns=[\"ID\", \"RENDIMIENTO_GLOBAL\"])\n",
        "y = data[\"RENDIMIENTO_GLOBAL\"]\n",
        "\n",
        "categorical_features = X.select_dtypes(include=['object']).columns.tolist()\n",
        "\n",
        "# Dividir el dataset en conjuntos de entrenamiento y prueba\n",
        "X_train, X_test, y_train, y_test = train_test_split(X, y, test_size=0.1, random_state=16, stratify=y)\n",
        "\n",
        "for col in categorical_features:\n",
        "    X_train[col] = X_train[col].fillna(\"Desconocido\")\n",
        "    X_test[col] = X_test[col].fillna(\"Desconocido\")\n",
        "\n",
        "# Crear el modelo CatBoost con bootstrap_type='Bayesian'\n",
        "model = CatBoostClassifier(\n",
        "    iterations=1000,\n",
        "    learning_rate=0.07,\n",
        "    depth=6,\n",
        "    l2_leaf_reg=3,\n",
        "    bootstrap_type='Bernoulli',\n",
        "    subsample=0.75,\n",
        "    auto_class_weights='Balanced',\n",
        "    thread_count=4,\n",
        "    verbose=100,\n",
        "    task_type='CPU',\n",
        "    eval_metric='Accuracy',\n",
        ")\n",
        "\n",
        "# Entrenar el modelo\n",
        "model.fit(X_train, y_train, eval_set=(X_test, y_test), cat_features=categorical_features, use_best_model=True)\n",
        "\n",
        "# Predecir en el conjunto de prueba\n",
        "y_pred = model.predict(X_test)\n",
        "\n",
        "# Calcular la precisión\n",
        "accuracy = accuracy_score(y_test, y_pred)\n",
        "print(f\"Precisión del modelo: {accuracy}\")"
      ],
      "metadata": {
        "id": "gO9u2wFlx5Bn"
      },
      "execution_count": null,
      "outputs": []
    },
    {
      "cell_type": "markdown",
      "source": [
        "# **Predicción Kaggle**"
      ],
      "metadata": {
        "id": "l5SVVFKUx6kn"
      }
    },
    {
      "cell_type": "code",
      "source": [
        "pred = test_df2.copy()\n",
        "y = pred[\"ID\"]\n",
        "\n",
        "# Eliminar columnas innecesarias si existen\n",
        "columnas_a_eliminar = [col for col in [\"ID\", \"Unnamed: 0\"] if col in pred.columns]\n",
        "pred.drop(columns=columnas_a_eliminar, inplace=True)\n",
        "\n",
        "# Rellenar NaN en columnas categóricas\n",
        "for col in pred.select_dtypes(include=['object']).columns:\n",
        "    pred[col] = pred[col].fillna(\"Desconocido\")\n",
        "\n",
        "# Predecir\n",
        "predicciones = model.predict(pred)\n",
        "\n",
        "# Concatenar resultados\n",
        "sol = pd.concat([y, pd.DataFrame(predicciones, columns=[\"RENDIMIENTO_GLOBAL\"])], axis=1)\n",
        "\n",
        "# Convertir de números a etiquetas\n",
        "rendimientoglobalreverse(sol)\n",
        "\n",
        "# Guardar a CSV\n",
        "sol.to_csv(\"submission.csv\", index=False)\n"
      ],
      "metadata": {
        "id": "umGPQ_kfx7in"
      },
      "execution_count": null,
      "outputs": []
    }
  ]
}